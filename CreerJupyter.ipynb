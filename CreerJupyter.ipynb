{
 "cells": [
  {
   "cell_type": "markdown",
   "metadata": {
    "extensions": {
     "jupyter_dashboards": {
      "version": 1,
      "views": {
       "grid_default": {},
       "report_default": {}
      }
     }
    }
   },
   "source": [
    "# Le Tutoriel des notebooks Jupyter"
   ]
  },
  {
   "cell_type": "markdown",
   "metadata": {
    "extensions": {
     "jupyter_dashboards": {
      "version": 1,
      "views": {
       "grid_default": {},
       "report_default": {}
      }
     }
    }
   },
   "source": [
    "## Ce tutoriel explique comment créer, exécuter et utiliser les Notebooks Jupyter pour vos séances de cours."
   ]
  },
  {
   "cell_type": "markdown",
   "metadata": {
    "extensions": {
     "jupyter_dashboards": {
      "version": 1,
      "views": {
       "grid_default": {},
       "report_default": {}
      }
     }
    }
   },
   "source": [
    "Les Jupyter Notebooks ou \"bloc-notes\" désignent des documents contenant à la fois du code et des éléments de texte enrichi, tels que des figures, des liens, des équations, ... \n",
    "\n",
    "Du fait de la combinaison d'éléments de code et de texte, ces documents constituent le support pour créer une séance de cours interactive durant laquelle il sera possible de visualiser du textes, des photos , des vidéos et d'éxécuter du code Python.\n",
    "\n",
    "Ces documents sont produits par l'application Jupyter Notebook.\n",
    "\n",
    "Sachez simplement que \"Jupyter\" est un acronyme, à savoir Julia, Python et R. \n",
    "\n",
    "Ces langages de programmation étaient les premiers langages cibles de l'application Jupyter, mais de nos jours, cette technologie prend également en charge de nombreux autres langages . "
   ]
  },
  {
   "cell_type": "markdown",
   "metadata": {
    "extensions": {
     "jupyter_dashboards": {
      "version": 1,
      "views": {
       "grid_default": {},
       "report_default": {}
      }
     }
    }
   },
   "source": [
    "## Qu'est-ce que l'application Jupyter Notebook ?"
   ]
  },
  {
   "cell_type": "markdown",
   "metadata": {
    "extensions": {
     "jupyter_dashboards": {
      "version": 1,
      "views": {
       "grid_default": {},
       "report_default": {}
      }
     }
    }
   },
   "source": [
    "En tant qu'application client-serveur, l'application Jupyter Notebook vous permet d'éditer et d'exécuter vos blocs-notes via un navigateur Web. \n",
    "L'application peut être exécutée sur un PC sans accès à Internet ou installée sur un serveur distant, auquel vous pouvez accéder via Internet.\n",
    "\n",
    "Le tableau de bord de l'application vous indique non seulement les documents de bloc-notes que vous avez créés et peuvent être rouverts, mais vous pouvez également utiliser pour gérer les noyaux: vous pouvez choisir ceux qui sont en cours d'exécution et les arrêter si nécessaire."
   ]
  },
  {
   "cell_type": "markdown",
   "metadata": {
    "extensions": {
     "jupyter_dashboards": {
      "version": 1,
      "views": {
       "grid_default": {},
       "report_default": {}
      }
     }
    }
   },
   "source": [
    "# Comment utiliser les cahiers Jupyter ? "
   ]
  },
  {
   "cell_type": "markdown",
   "metadata": {
    "extensions": {
     "jupyter_dashboards": {
      "version": 1,
      "views": {
       "grid_default": {},
       "report_default": {}
      }
     }
    }
   },
   "source": [
    "Sous Windows, vous pouvez exécuter Jupyter via le raccourci **jupyter** <IMG SRC=\"Jupyter.png\"> ajouté par Anaconda à votre menu Démarrer, ce qui ouvrira un nouvel onglet dans votre navigateur Web par défaut qui devrait ressembler à la capture d'écran suivante :"
   ]
  },
  {
   "cell_type": "markdown",
   "metadata": {
    "extensions": {
     "jupyter_dashboards": {
      "version": 1,
      "views": {
       "grid_default": {},
       "report_default": {}
      }
     }
    }
   },
   "source": [
    "<IMG SRC=\"capture1.png\">"
   ]
  },
  {
   "cell_type": "markdown",
   "metadata": {
    "extensions": {
     "jupyter_dashboards": {
      "version": 1,
      "views": {
       "grid_default": {},
       "report_default": {}
      }
     }
    }
   },
   "source": [
    "Ce n'est pas encore un cahier interactif , mais restez calme cela viendra ! \n",
    "\n",
    "Voici le tableau de bord du bloc-notes, spécialement conçu pour gérer vos blocs-notes Jupyter. \n",
    "\n",
    "Considérez-le comme un *tableau de bord* pour explorer, éditer et créer vos cahiers."
   ]
  },
  {
   "cell_type": "markdown",
   "metadata": {
    "extensions": {
     "jupyter_dashboards": {
      "version": 1,
      "views": {
       "grid_default": {},
       "report_default": {}
      }
     }
    }
   },
   "source": [
    "Sachez que le tableau de bord ne vous donnera accès qu'aux fichiers et sous-dossiers contenus dans le répertoire de démarrage de Jupyter. (qu' il d'ailleurs est possible de modifier) "
   ]
  },
  {
   "cell_type": "markdown",
   "metadata": {
    "extensions": {
     "jupyter_dashboards": {
      "version": 1,
      "views": {
       "grid_default": {},
       "report_default": {}
      }
     }
    }
   },
   "source": [
    "Le lecteur astucieux a peut-être remarqué que l'URL du tableau de bord ressemble à quelque chose http://localhost:8888/tree.\n",
    "\n",
    "Localhost n'est pas un site Web, mais indique que le contenu est diffusé à partir de votre ordinateur local : votre propre ordinateur. \n",
    "Les tableaux de bord de Jupyter sont des applications Web. Jupyter démarre un serveur Python local pour servir ces applications à votre navigateur Web, ce qui le rend essentiellement indépendant de la plate-forme et ouvre la porte à un partage plus aisé sur le Web."
   ]
  },
  {
   "cell_type": "markdown",
   "metadata": {
    "extensions": {
     "jupyter_dashboards": {
      "version": 1,
      "views": {
       "grid_default": {},
       "report_default": {}
      }
     }
    }
   },
   "source": [
    "L’interface du tableau de bord s’explique généralement par elle-même - nous y reviendrons brièvement plus tard. alors qu'attendez-vous? \n",
    "Accédez au dossier dans lequel vous souhaitez créer votre premier bloc-notes, cliquez sur le bouton \"Nouveau\" dans la liste déroulante en haut à droite et sélectionnez \"Python 3\" (ou la version de votre choix)."
   ]
  },
  {
   "cell_type": "markdown",
   "metadata": {
    "extensions": {
     "jupyter_dashboards": {
      "version": 1,
      "views": {
       "grid_default": {},
       "report_default": {}
      }
     }
    }
   },
   "source": [
    "Votre premier bloc-notes Jupyter s'ouvre dans un nouvel onglet - chaque bloc-notes utilise son propre onglet, car vous pouvez ouvrir plusieurs blocs-notes simultanément. Si vous revenez au tableau de bord, vous verrez le nouveau fichier Untitled.ipynbet vous devriez voir un texte vert qui indique que votre cahier est en cours d'exécution."
   ]
  },
  {
   "cell_type": "markdown",
   "metadata": {
    "extensions": {
     "jupyter_dashboards": {
      "version": 1,
      "views": {
       "grid_default": {},
       "report_default": {}
      }
     }
    }
   },
   "source": [
    "<IMG SRC=\"capture2.png\">"
   ]
  },
  {
   "cell_type": "markdown",
   "metadata": {
    "extensions": {
     "jupyter_dashboards": {
      "version": 1,
      "views": {
       "grid_default": {},
       "report_default": {}
      }
     }
    }
   },
   "source": [
    "Maintenant que vous avez un cahier ouvert devant vous, son interface ne vous sera pas totalement étrangère, espérons-le. après tout, Jupyter est essentiellement un traitement de texte avancé."
   ]
  },
  {
   "cell_type": "markdown",
   "metadata": {
    "extensions": {
     "jupyter_dashboards": {
      "version": 1,
      "views": {
       "grid_default": {},
       "report_default": {}
      }
     }
    }
   },
   "source": [
    "<IMG SRC=\"capture3.png\">"
   ]
  },
  {
   "cell_type": "markdown",
   "metadata": {
    "extensions": {
     "jupyter_dashboards": {
      "version": 1,
      "views": {
       "grid_default": {},
       "report_default": {}
      }
     }
    }
   },
   "source": [
    "Vous devriez remarquer deux termes plutôt importants, qui sont probablement nouveaux pour vous: les cellules et les noyaux sont essentiels à la fois pour comprendre Jupyter et pour ce qui en fait plus qu’un simple traitement de texte. \n",
    "\n",
    "Heureusement, ces concepts ne sont pas difficiles à comprendre.\n",
    "\n",
    "+ Un noyau est un \"moteur de calcul\" qui exécute le code contenu dans un document de cahier.\n",
    "\n",
    "+ Une cellule est un conteneur permettant d'afficher du texte dans le bloc-notes ou un code à exécuter par le noyau du bloc-notes."
   ]
  },
  {
   "cell_type": "markdown",
   "metadata": {
    "extensions": {
     "jupyter_dashboards": {
      "version": 1,
      "views": {
       "grid_default": {},
       "report_default": {}
      }
     }
    }
   },
   "source": [
    "## Les Cellules "
   ]
  },
  {
   "cell_type": "markdown",
   "metadata": {
    "extensions": {
     "jupyter_dashboards": {
      "version": 1,
      "views": {
       "grid_default": {},
       "report_default": {}
      }
     }
    }
   },
   "source": [
    "Nous reviendrons sur les noyaux un peu plus tard, mais abordons d'abord les cellules. Les cellules forment le corps d'un cahier. Dans la capture d'écran d'un nouveau bloc-notes dans la section ci-dessus, cette case avec le contour vert est une cellule vide. Nous allons couvrir deux types de cellules principales:\n",
    "\n",
    "+ Une cellule **Markdown** contient du texte mis en forme à l'aide de Markdown et affiche sa sortie sur place lors de son exécution.\n",
    "+ Une **cellule** de code contient du code à exécuter dans le noyau et affiche sa sortie ci-dessous.\n",
    "+ **Raw NBConvert** : permet d’écrire dans la cellule du texte simple\n",
    "+ **Heading** : permet d’écrire du texte avec les balises Markdown consacrées aux titres."
   ]
  },
  {
   "cell_type": "markdown",
   "metadata": {
    "extensions": {
     "jupyter_dashboards": {
      "version": 1,
      "views": {
       "grid_default": {},
       "report_default": {}
      }
     }
    }
   },
   "source": [
    "## Le Markdown "
   ]
  },
  {
   "cell_type": "markdown",
   "metadata": {
    "extensions": {
     "jupyter_dashboards": {
      "version": 1,
      "views": {
       "grid_default": {},
       "report_default": {}
      }
     }
    }
   },
   "source": [
    "Markdown est un langage de balisage léger et facile à apprendre pour la mise en forme de texte brut.\n",
    "Sa syntaxe correspond parfaitement aux balises HTML.\n",
    "\n",
    "Il est donc utile d’avoir quelques connaissances préalables, mais ce n’est certainement pas une condition préalable. \n",
    "\n",
    "N'oubliez pas que cet article a été écrit dans un cahier Jupyter. \n",
    "Par conséquent, tout le texte narratif et les images que vous avez vus jusqu'à présent ont été réalisés dans Markdown. \n",
    "\n",
    "Voici un exemple qui présente toute les possiblités de ce langage de balisage rapide. "
   ]
  },
  {
   "cell_type": "markdown",
   "metadata": {},
   "source": [
    "**Pour visualiser le Markdown , double-cliquer sur la cellule ;-)**"
   ]
  },
  {
   "cell_type": "markdown",
   "metadata": {
    "extensions": {
     "jupyter_dashboards": {
      "version": 1,
      "views": {
       "grid_default": {},
       "report_default": {}
      }
     }
    }
   },
   "source": [
    "## Faire des Titres avec Markdown  "
   ]
  },
  {
   "cell_type": "markdown",
   "metadata": {
    "extensions": {
     "jupyter_dashboards": {
      "version": 1,
      "views": {
       "grid_default": {},
       "report_default": {}
      }
     }
    }
   },
   "source": [
    "# Titre1\n",
    "## Titre2\n",
    "### Titre3\n",
    "#### Titre4\n",
    "##### Titre5\n",
    "###### Titre6"
   ]
  },
  {
   "cell_type": "markdown",
   "metadata": {},
   "source": [
    "## Faire une règle avec Markdown"
   ]
  },
  {
   "cell_type": "markdown",
   "metadata": {},
   "source": [
    "---\n",
    "***\n",
    "___"
   ]
  },
  {
   "cell_type": "markdown",
   "metadata": {},
   "source": [
    "## Gras, italique, barré "
   ]
  },
  {
   "cell_type": "markdown",
   "metadata": {},
   "source": [
    "**Ce texte est en gras**\n",
    "\n",
    "__Ce texte est en gras__\n",
    "\n",
    "*Ce texte est en italique*\n",
    "\n",
    "_Ce texte est en italique_\n",
    "\n",
    "~~Ce texte est barré~~"
   ]
  },
  {
   "cell_type": "markdown",
   "metadata": {},
   "source": [
    "## Liste ou sous-liste"
   ]
  },
  {
   "cell_type": "markdown",
   "metadata": {},
   "source": [
    "+ Creer une liste en commençant par `+`, `-`, ou `*`\n",
    "+ Sous-listes sont faitesavec une indentation de 2 espaces:\n",
    "  - un changement de marqueur marqueur oblige une nouvelle liste de démarrer :\n",
    "    * Ac tristique libero volutpat at\n",
    "    + Facilisis in pretium nisl aliquet\n",
    "    - Nulla volutpat aliquam velit\n",
    "+ c'est très naturel à utiliser "
   ]
  },
  {
   "cell_type": "markdown",
   "metadata": {},
   "source": [
    "## Créer du code (bloc, en ligne,...)\n"
   ]
  },
  {
   "cell_type": "markdown",
   "metadata": {},
   "source": [
    "```python\n",
    "print(\"ceci est du code informatique\") \n",
    "```"
   ]
  },
  {
   "cell_type": "markdown",
   "metadata": {},
   "source": [
    "## Des images \n"
   ]
  },
  {
   "cell_type": "markdown",
   "metadata": {},
   "source": [
    "![Planche de Galton](http://sorciersdesalem.math.cnrs.fr/Galton/planche.png)"
   ]
  },
  {
   "cell_type": "markdown",
   "metadata": {},
   "source": [
    "## Lien hypertexte\n"
   ]
  },
  {
   "cell_type": "markdown",
   "metadata": {},
   "source": [
    "[Un super site où trouver plein d'exemples de Markdown](https://markdown-it.github.io/)"
   ]
  },
  {
   "cell_type": "markdown",
   "metadata": {},
   "source": [
    "## et même du LaTeX ..."
   ]
  },
  {
   "cell_type": "markdown",
   "metadata": {},
   "source": [
    "1. Des rationnels  \n",
    "$ \\dfrac{1}{3} $ \n",
    "2. Des intégrales \n",
    "$\\int_a^b f(x) = F(b) - F(a)$ \n",
    "3. Des limites \n",
    "$$f'(a) = \\lim_{x \\to a} \\frac{f(x) - f(a)}{x-a}$$\n",
    "$$\\lim_{x \\to a^-} f(x) = f(a) = \\lim_{x \\to a^+} f(x)$$\n",
    "\n",
    "4. Des **QCM**  \n",
    "Parmi les fonctions suivantes, une seule est strictement croissante sur $\\mathbb{R}$. Laquelle? \n",
    "\t\t\n",
    "  - $x\\mapsto 2x-7$;\t\t\t\n",
    "  - $x\\mapsto x^2$\n",
    "  - $x\\mapsto -3x+4$;\n",
    "  - $x\\mapsto \\dfrac{1}{x}$.\n",
    " "
   ]
  },
  {
   "cell_type": "markdown",
   "metadata": {},
   "source": [
    "# inclure des  vidéos "
   ]
  },
  {
   "cell_type": "markdown",
   "metadata": {},
   "source": [
    "Regarder la vidéo suivante :\n",
    "\n",
    "<video width=\"640\" height=\"480\" controls src=\"saut_a_ski.mp4\" />"
   ]
  },
  {
   "cell_type": "markdown",
   "metadata": {},
   "source": [
    "[un problème ouvert sur le saut à ski](https://www.pedagogie.ac-nantes.fr/mathematiques/enseignement/groupe-de-recherche/actions-nationales-2013-2015/saut-a-ski-793412.kjsp?RH=PER)\n",
    "\n",
    "\n",
    "[un dernier lien pour revoir tout cela en anglais](https://www.markdownguide.org/basic-syntax)"
   ]
  }
 ],
 "metadata": {
  "extensions": {
   "jupyter_dashboards": {
    "activeView": "grid_default",
    "version": 1,
    "views": {
     "grid_default": {
      "cellMargin": 10,
      "defaultCellHeight": 20,
      "maxColumns": 12,
      "name": "grid",
      "type": "grid"
     },
     "report_default": {
      "name": "report",
      "type": "report"
     }
    }
   }
  },
  "kernelspec": {
   "display_name": "Python 3",
   "language": "python",
   "name": "python3"
  },
  "language_info": {
   "codemirror_mode": {
    "name": "ipython",
    "version": 3
   },
   "file_extension": ".py",
   "mimetype": "text/x-python",
   "name": "python",
   "nbconvert_exporter": "python",
   "pygments_lexer": "ipython3",
   "version": "3.7.4"
  }
 },
 "nbformat": 4,
 "nbformat_minor": 2
}
