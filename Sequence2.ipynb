{
 "cells": [
  {
   "cell_type": "markdown",
   "metadata": {},
   "source": [
    "# Internet et les reseaux informatiques"
   ]
  },
  {
   "cell_type": "markdown",
   "metadata": {},
   "source": [
    "<IMG SRC=\"internet.png\" width=\"500\">"
   ]
  },
  {
   "cell_type": "markdown",
   "metadata": {},
   "source": [
    "## Activité 1 : Frise chronologique (Travail à la Maison) "
   ]
  },
  {
   "cell_type": "markdown",
   "metadata": {},
   "source": [
    "Voici une frise réalisé à partir des pages 36 et 37 du livre :\n",
    "<IMG SRC=\"frise.png\" width=\"700\">"
   ]
  },
  {
   "cell_type": "markdown",
   "metadata": {},
   "source": [
    "Avec les  quelques repères **historiques sur internet** : \n",
    "+ 1945 à 1950 : naissance et essor de la cybernétique aux Etats-unis\n",
    "+ 1958 : création de l'ARPA  (Advanced Research Projects Agency) : réponse au défi soviétique de la course à l'espace...\n",
    "+ 1961 : Naissance de la communication par paquets\n",
    "+ 1969 : premières connexions d'ARPANET sur la côte Ouest entre 4 universités ; connexions de type \"Telnet\"\n",
    "+ 1972 : mise au point des trois premières applications d'Internet :\n",
    "        - TELNET : la connexion à distance\n",
    "        - l'e-mail : premier protocole de messagerie\n",
    "        - FTP (File Transfer Protocol) : protocole de transfert de fichiers  \n",
    "\n",
    "+ 1974 : mise au point, par Vinton Cerf et Bob Kahn, de TCP (Transmission Control Protocol), visant \"l'Internetworking\", l'interconnexion de réseaux hétérogènes\n",
    "\n",
    "+ 1979 : création de USENET (Unix User Network), service de conférences électroniques (newsgroup) : premiers forums de discussion\n",
    "+ 1980 : secret militaire levé sur le protocole TCP/IP par la DARPA, qui place le protocole dans le domaine public ; seconde naissance d'Internet\n",
    "+ 1981 : premières listes de diffusion (logiciel LISTSERV)\n",
    "+ 1983 : création des premiers noms de domaines du DNS (Domain Name System) : .edu, .org, .com, etc.\n",
    "+ 1989 : fermeture d'ARPANET, le premier réseau\n",
    "+ 1989 : création au CERN de Lausanne, par Tim Burners-Lee, d'un nouveau système de description et de diffusion des documents, fondé sur le principe d'hypertexte : les fondements du World Wide Web sont posés\n",
    "+ 1992 : création en France de RENATER (Réseau National de Télécommunications pour la Technologie, l'Enseignement et la Recherche), connectant les établissements d'enseignement supérieur et de recherche\n",
    "+ 1993 : premier \"navigateur\", permettant l'accès aux ressources du WWW : Mosaic\n",
    "+ 1994 : les inventeurs de Mosaic créent Netscape, distribué gratuitement. Netscape permet l'explosion du Web et d'Internet dans le monde.\n",
    "+ 1995 : création de Yahoo, premier répertoire thématique des ressources du web\n",
    "+ 2008 : internet des objets "
   ]
  },
  {
   "cell_type": "markdown",
   "metadata": {},
   "source": [
    "**A Faire**\n",
    "+ Consulter la vidéo : [Frisechronos] (https://www.youtube.com/watch?v=FZy_KmD132g)\n",
    "+ Créer un frise chronologique à l'aide du logiciel frisechronos qui reprend ces éléments.\n",
    "+ Envoyer votre frise au format pdf via pronote. \n",
    "[frise chronologique](http://www.frisechronos.fr/)"
   ]
  },
  {
   "cell_type": "markdown",
   "metadata": {},
   "source": [
    "## Activité 2 : Création d'internet "
   ]
  },
  {
   "cell_type": "markdown",
   "metadata": {},
   "source": [
    "L’histoire d'Internet remonte au développement des premiers réseaux de télécommunication.\n",
    "L’idée d’un réseau informatique, permettant aux utilisateurs de différents ordinateurs de communiquer, se\n",
    "développa par étapes successives, jusqu'à ce « réseau des réseaux » que nous connaissons aujourd’hui en\n",
    "tant qu'Internet.\n",
    "Il est le fruit à la fois de développements technologiques et du regroupement d’infrastructures réseaux\n",
    "existantes et de systèmes de télécommunications."
   ]
  },
  {
   "cell_type": "markdown",
   "metadata": {},
   "source": [
    "<video width=\"540\" height=\"380\" controls src=\"http://lienmini.fr/3389-203\">"
   ]
  },
  {
   "cell_type": "markdown",
   "metadata": {},
   "source": [
    "Dès les années cinquante, les ordinateurs ont été mis en réseau pour échanger des informations, mais de\n",
    "façon très liée aux constructeurs d’ordinateurs ou aux opérateurs téléphoniques.\n",
    "Les réseaux généraux indépendants des constructeurs sont nés aux États-Unis avec ArpaNet (1970) et en\n",
    "France avec Cyclades (1971).\n",
    "Cet effort a culminé avec internet, né en 1983."
   ]
  },
  {
   "cell_type": "markdown",
   "metadata": {},
   "source": [
    "+ Consulter la vidéo ci dessus (et livre p 46 et 47)\n",
    "+ quelle est la solution poposée par Baran et davies pour trouver un moyen de communication fiable même en cas d'attaque nucléaire ? \n",
    "+ Qu'est-ce qu'un paquet ? \n",
    "+ Qu'est ce qu'un routeur ? \n",
    "+ Qu'est ce qu'un protocole de communication ? \n",
    "+ Expliquer le binôme de protocles TCP/IP ? \n",
    "+ Qu'est ce qu'internet ? le web ? \n",
    "\n",
    "**Noter les réponses et la définition d'internet sur votre compte rendu**"
   ]
  },
  {
   "cell_type": "markdown",
   "metadata": {},
   "source": [
    "**A retenir **\n",
    "\n",
    "Un **réseau** en général est le résultat de la **connexion** de plusieurs machines entre elles, afin que les\n",
    "utilisateurs et les applications qui fonctionnent sur ces dernières puissent échanger des informations.\n",
    "Le terme réseau en fonction de son contexte peut désigner plusieurs choses :\n",
    "Il peut désigner l'ensemble des machines, ou l'**infrastructure** informatique d'une organisation avec les\n",
    "protocoles qui sont utilisés, ce qui 'est le cas lorsque l'on parle de l'**Internet**.\n",
    "Le terme réseau peut également être utilisé pour décrire la façon dont les machines d'un site sont\n",
    "interconnectées. C'est le cas lorsque l'on dit que les machines d'un site (sur un réseau local) sont sur un\n",
    "réseau **Ethernet**, réseau en **étoile**, réseau en **bus**, ...\n",
    "Le terme réseau peut également être utilisé pour spécifier le protocole qui est utilisé pour que les machines\n",
    "communiquent. On peut parler de réseau **TCP/IP**."
   ]
  },
  {
   "cell_type": "markdown",
   "metadata": {},
   "source": [
    "## Activité 3 (Pratique)  : Accéder à une page web hébergée sur un serveur distant "
   ]
  },
  {
   "cell_type": "markdown",
   "metadata": {},
   "source": [
    "L’**URL** permet de localiser une ressource web sur Internet. L’URL contient donc indirectement l’adresse Internet (adresse IP) de la machine qui héberge la\n",
    "ressource : c’est le Nom de domaine"
   ]
  },
  {
   "cell_type": "markdown",
   "metadata": {},
   "source": [
    "<IMG SRC=\"nom_domaine.png\" width=\"200\">"
   ]
  },
  {
   "cell_type": "markdown",
   "metadata": {},
   "source": [
    "Sur un PC , grace au **navigateur** entre l'URL :\n",
    "\n",
    "+ https://www.inria.fr/recherches/domaines-de-recherche\n",
    "+ http://meteofrance.com/accueil\n",
    "\n",
    "Nous accédons aux différentes ressources web (pages web) mais quels sont les « adresses IP » des\n",
    "serveurs distants (machine+application) qui hébergent physiquement ces ressources web. "
   ]
  },
  {
   "cell_type": "markdown",
   "metadata": {},
   "source": [
    "## Commande ping"
   ]
  },
  {
   "cell_type": "markdown",
   "metadata": {},
   "source": [
    "Maintenant nous allons faire un diagnostic avec la commande **ping** (packet Internet Groper) pour contacter les serveurs distants :\n",
    "\n",
    "Grace au protocole **ICMP**(Internet Control Message Protocol), l'emetteur génére un ou plusieurs paquets à l'équipement dont il souhaite tester la connectivité.le récepteur répond par un paquet(ou plusieurs). \n",
    "\n",
    "sur le site : https://ping.eu/ping/ \n",
    "recopier l'adresse du site : https://www.inria.fr/recherches/domaines-de-recherche\n",
    "entrer le code \n",
    "+ que constater vous ? \n",
    "+ combien de paquets on été transmis ?\n",
    "+ Que signifie ttl ? \n",
    "même travail avec le site : http://meteofrance.com/accueil "
   ]
  },
  {
   "cell_type": "markdown",
   "metadata": {},
   "source": [
    "Maintenat dans la barre d'adresse de votre navigateur saisir : \n",
    "+ http://185.86.168.100/accueil\n",
    "+ https://128.93.162.84/recherches/domaines-de-recherche\n",
    "\n",
    "+ Que constatez-vous ? \n"
   ]
  },
  {
   "cell_type": "markdown",
   "metadata": {},
   "source": [
    "## Activité 4  : les protocoles IP et TCP  "
   ]
  },
  {
   "cell_type": "markdown",
   "metadata": {},
   "source": [
    "+ https://www.youtube.com/watch?v=dCknqcjcItU\n"
   ]
  },
  {
   "cell_type": "markdown",
   "metadata": {},
   "source": [
    "Nous avons vu précédemment qu’un serveur Web distant était identifiée par son adresse IP.\n",
    "c'est à dire 4 nombres compris en entre 0 et 255 et séparés par des points (Règle IPV4) \n",
    "\n",
    "+ Donner un exemple au hasard d’une adresse IP ?\n",
    "+ Combien d'adresses IP différentes  nombres différents peut on coder ?\n",
    "\n",
    "Avant de se lancer sur Internet…\n",
    "\n",
    "On propose de créer un serveur Web « local » sur lequel seront déposées les pages Web.\n",
    "Une machine « client » sera utilisée pour tester l’accès à la ressource.\n",
    "\n",
    "Il s’agira donc de réunir les conditions matérielles et logicielles qui assureront une\n",
    "communication réseau entre deux machines d’un réseau local (LAN).\n",
    "Une simulation sous « Filius » permettra de valider la configuration."
   ]
  },
  {
   "attachments": {},
   "cell_type": "markdown",
   "metadata": {},
   "source": [
    "Sur filus, en mode creation de reseau : \n",
    "<IMG SRC=\"creation.png\" width=\"100\">"
   ]
  },
  {
   "cell_type": "markdown",
   "metadata": {},
   "source": [
    "Nous allons recréer un réseau local (LAN) constitué des 3 PC : PC1,PC2 et PC3\n",
    "\n",
    "Pour le PC1 on prendra comme adresse IP : 192.168.0.1 \n",
    "Pour le PC2 on prendra comme adresse IP : 192.168.0.2 \n",
    "Pour le PC3 on prendra comme adresse IP : 192.168.0.3\n",
    "\n",
    "Le masque de reseau sera 255.255.255.0 \n",
    "\n",
    "Pour connecter plus de deux ordinateurs entre-eux, nous avons besoin d'une espèce de multi-prise reseau appelé **switch**.\n",
    "Il ne necessite pas d'adresse IP pour communiquer avce les autres composants.\n"
   ]
  },
  {
   "cell_type": "markdown",
   "metadata": {},
   "source": [
    "<IMG SRC=\"switch.png\" width=\"60\">"
   ]
  },
  {
   "cell_type": "markdown",
   "metadata": {},
   "source": [
    "## Commande ping "
   ]
  },
  {
   "cell_type": "markdown",
   "metadata": {},
   "source": [
    "En mode simulation :"
   ]
  },
  {
   "cell_type": "markdown",
   "metadata": {},
   "source": [
    "<IMG SRC=\"simulation.png\" width=\"60\">"
   ]
  },
  {
   "cell_type": "markdown",
   "metadata": {},
   "source": [
    "Installer la ligne de commande (shell) :\n",
    "+taper ping 192.168.0.3\n",
    "+ ipconfig \n",
    "\n",
    "ensuite , cliquer sur le pc1 et sélectionner Afficher les données échangées  \n",
    "\n",
    "+ Recopier ces informations sur votre compte-rendu ? \n",
    "+ que constatez-vous ? "
   ]
  },
  {
   "cell_type": "markdown",
   "metadata": {},
   "source": [
    "# Activité 5  : Création d'un serveur web local   "
   ]
  },
  {
   "cell_type": "markdown",
   "metadata": {},
   "source": [
    "Le réseau local de 3 PC est maintenant opérationnel : câblé et adressé !\n",
    "Il reste donc à donner aux machines, la possibilité d’échanger des informations"
   ]
  },
  {
   "cell_type": "markdown",
   "metadata": {},
   "source": [
    "+ Installer l'application logicielle : serveur web  sur le PC3 afin d’héberger nos pages web et répondre aux PC visiteurs (PC1 et PC2) ainsi\n",
    "+ installer un explorateur de fichier sur le pc3"
   ]
  },
  {
   "cell_type": "markdown",
   "metadata": {},
   "source": [
    "<IMG SRC=\"pc3.png\" width=\"460\">"
   ]
  },
  {
   "cell_type": "code",
   "execution_count": null,
   "metadata": {},
   "outputs": [],
   "source": [
    "+ installer un navigateur web sur le pc 1\n",
    "\n",
    "On va tester alors l’accès au serveur http par son adresse IP, dans un 1er temps.\n",
    "\n",
    "+ Sur le PC1 dans le navigateur web taper l'*adresse IP du PC 3* \n",
    "+ Que constatez-vous ?"
   ]
  },
  {
   "cell_type": "markdown",
   "metadata": {},
   "source": [
    "# Activité 6 : Création d'un serveur DNS local "
   ]
  },
  {
   "cell_type": "markdown",
   "metadata": {},
   "source": [
    "+ Qu'est-ce qu'un serveur DNS ? \n",
    "+ Quel rôle joue t-il ?"
   ]
  },
  {
   "cell_type": "markdown",
   "metadata": {},
   "source": [
    "Nous allons installer un « serveur DNS »sur une 4ème machine afin d’accéder aux ressources du serveur http par son nom de domaine « local » (associé à l’IP). "
   ]
  },
  {
   "cell_type": "markdown",
   "metadata": {},
   "source": [
    "<IMG SRC=\"reseau_dns.png\" width=\"500\">"
   ]
  },
  {
   "cell_type": "markdown",
   "metadata": {},
   "source": [
    "Sur le serveur DNS , installer l'apllication seveur DNS et demarrer ce serveur.\n",
    "ajouter tilloydns associé à l'ip du PC3"
   ]
  },
  {
   "cell_type": "markdown",
   "metadata": {},
   "source": [
    "<IMG SRC=\"association_dns.png\" width=\"500\">"
   ]
  },
  {
   "cell_type": "markdown",
   "metadata": {},
   "source": [
    "on voit ensuite bien apparaitre dans nom de domaine tilloysnt et Adresse IP correspondante."
   ]
  },
  {
   "cell_type": "markdown",
   "metadata": {},
   "source": [
    "sur le PC3 dans le navigateur taper l'adresse http://tilloysnt/\n",
    "+ Que constatez vous ? \n",
    "+ recopier le message d'erreur ? "
   ]
  },
  {
   "cell_type": "markdown",
   "metadata": {},
   "source": [
    "C'est normal que cela ne fonctionne pas car les PC1 et PC2 ne connaissent pas l'adresse Ip du serveur DNS .\n",
    "Quitter le mode simulation et renseigner ce champ pour les PC1 et PC2."
   ]
  },
  {
   "cell_type": "markdown",
   "metadata": {},
   "source": [
    "<IMG SRC=\"adresse_dns.png\" width=\"300\">"
   ]
  },
  {
   "cell_type": "markdown",
   "metadata": {},
   "source": [
    "Le serveur DNS devrait alors jouer son rôle en traduisant le nom de domaine en IP liée au serveur http et en renvoyant\n",
    "l’information à notre navigateur.\n",
    "sur le PC3 dans le navigateur taper l'adresse http://tilloysnt/\n",
    "+ Que constatez vous ? \n",
    "+ recopier le message d'erreur ? \n",
    "Ce dernier pourra alors contacter le serveur http par son IP. La page web s’affichera donc sur le navigateur du client."
   ]
  }
 ],
 "metadata": {
  "kernelspec": {
   "display_name": "Python 3",
   "language": "python",
   "name": "python3"
  },
  "language_info": {
   "codemirror_mode": {
    "name": "ipython",
    "version": 3
   },
   "file_extension": ".py",
   "mimetype": "text/x-python",
   "name": "python",
   "nbconvert_exporter": "python",
   "pygments_lexer": "ipython3",
   "version": "3.7.4"
  }
 },
 "nbformat": 4,
 "nbformat_minor": 2
}
